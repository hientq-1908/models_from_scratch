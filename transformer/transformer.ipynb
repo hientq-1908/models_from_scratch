{
  "nbformat": 4,
  "nbformat_minor": 0,
  "metadata": {
    "colab": {
      "name": "transformer.ipynb",
      "provenance": [],
      "collapsed_sections": []
    },
    "kernelspec": {
      "name": "python3",
      "display_name": "Python 3"
    },
    "language_info": {
      "name": "python"
    },
    "accelerator": "GPU"
  },
  "cells": [
    {
      "cell_type": "code",
      "source": [
        "from network import Transformer\n",
        "from trainer import Trainer\n",
        "from dataset import EngVieDataset\n",
        "from utils import translate\n",
        "from utils import create_vocab, clean_data\n",
        "%load_ext autoreload\n",
        "%autoreload 2"
      ],
      "metadata": {
        "colab": {
          "base_uri": "https://localhost:8080/"
        },
        "id": "iK_ugWxpjBjU",
        "outputId": "feb2f7ea-9797-4032-90d9-fe8fec2a3528"
      },
      "execution_count": null,
      "outputs": [
        {
          "output_type": "stream",
          "name": "stdout",
          "text": [
            "The autoreload extension is already loaded. To reload it, use:\n",
            "  %reload_ext autoreload\n"
          ]
        }
      ]
    },
    {
      "cell_type": "code",
      "source": [
        "checkpoint = '/content/drive/MyDrive/saved_model/transformer.pth'"
      ],
      "metadata": {
        "id": "3bdl9Hu1VGsZ"
      },
      "execution_count": null,
      "outputs": []
    },
    {
      "cell_type": "code",
      "source": [
        "path = 'vie.txt'\n",
        "eng_data, vie_data = clean_data(path)\n",
        "create_vocab('eng_vocab.txt', eng_data)\n",
        "create_vocab('vie_vocab.txt', vie_data)\n",
        "eng_vocab = open('eng_vocab.txt', 'r').read().splitlines()\n",
        "vie_vocab = open('vie_vocab.txt', 'r', encoding=\"UTF-8\").read().splitlines()\n",
        "eng_token2input = {t: i for i, t in enumerate(eng_vocab)}\n",
        "vie_token2input = {t: i for i, t in enumerate(vie_vocab)}\n",
        "vie_input2token = {v: k for k, v in vie_token2input.items()}\n"
      ],
      "metadata": {
        "id": "-NRXfVCPZGyI"
      },
      "execution_count": null,
      "outputs": []
    },
    {
      "cell_type": "code",
      "source": [
        "device = 'cuda'\n",
        "transformer = Transformer(\n",
        "    src_vocab_size=len(eng_vocab),\n",
        "    trg_vocab_size=len(vie_vocab),\n",
        "    src_max_length=25,\n",
        "    trg_max_length=25,\n",
        "    device=device\n",
        ")\n",
        "dataset = EngVieDataset(path, eng_vocab, vie_vocab)\n",
        "trainer = Trainer(transformer, dataset, device)"
      ],
      "metadata": {
        "id": "lWzPsrztjKMY"
      },
      "execution_count": null,
      "outputs": []
    },
    {
      "cell_type": "code",
      "source": [
        "trainer.load_checkpoint(checkpoint)"
      ],
      "metadata": {
        "id": "XUcNv1wFjUs6"
      },
      "execution_count": null,
      "outputs": []
    },
    {
      "cell_type": "code",
      "source": [
        "model = trainer.model\n",
        "text = 'run'\n",
        "translate(model, text, eng_token2input, vie_input2token, 20, device)"
      ],
      "metadata": {
        "colab": {
          "base_uri": "https://localhost:8080/",
          "height": 35
        },
        "id": "ZuL_I3Jpac5_",
        "outputId": "0a58bbb6-796f-4ae2-b972-57ba64908618"
      },
      "execution_count": null,
      "outputs": [
        {
          "output_type": "execute_result",
          "data": {
            "text/plain": [
              "'chạy'"
            ],
            "application/vnd.google.colaboratory.intrinsic+json": {
              "type": "string"
            }
          },
          "metadata": {},
          "execution_count": 9
        }
      ]
    },
    {
      "cell_type": "code",
      "source": [
        "text = 'sorry' # ?????????\n",
        "translate(model, text, eng_token2input, vie_input2token, 20, device)"
      ],
      "metadata": {
        "colab": {
          "base_uri": "https://localhost:8080/",
          "height": 35
        },
        "id": "QqduxELOhVO7",
        "outputId": "cb4e5c70-a7c6-4c67-ddb7-879474c85c3f"
      },
      "execution_count": null,
      "outputs": [
        {
          "output_type": "execute_result",
          "data": {
            "text/plain": [
              "'xin chúc mừng'"
            ],
            "application/vnd.google.colaboratory.intrinsic+json": {
              "type": "string"
            }
          },
          "metadata": {},
          "execution_count": 15
        }
      ]
    },
    {
      "cell_type": "code",
      "source": [
        "text = 'He do not like reading book'\n",
        "translate(model, text, eng_token2input, vie_input2token, 20, device)"
      ],
      "metadata": {
        "colab": {
          "base_uri": "https://localhost:8080/",
          "height": 35
        },
        "id": "rw4Iems0kR9s",
        "outputId": "49848796-78f4-4c80-f320-4d649c9c2409"
      },
      "execution_count": null,
      "outputs": [
        {
          "output_type": "execute_result",
          "data": {
            "text/plain": [
              "'đừng có mà quyển sách này cũng là đọc'"
            ],
            "application/vnd.google.colaboratory.intrinsic+json": {
              "type": "string"
            }
          },
          "metadata": {},
          "execution_count": 16
        }
      ]
    },
    {
      "cell_type": "code",
      "source": [
        ""
      ],
      "metadata": {
        "id": "8HAYTQFrk7Ao"
      },
      "execution_count": null,
      "outputs": []
    }
  ]
}